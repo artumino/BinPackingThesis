{
 "cells": [
  {
   "cell_type": "markdown",
   "id": "a5d05466",
   "metadata": {},
   "source": [
    "# Overview\n",
    "A conceptual model for the problem would be:\n",
    "\\begin{array}{rl}\n",
    "    \\text{min} & \\text{unused volume in used bins} \\\\\n",
    "    \\text{subject to}   & \\text{all items assigned to one and only one bin} \\\\\n",
    "                        & \\text{all items within the bin dimensions} \\\\\n",
    "                        & \\text{no overlaps between items in the same bin} \\\\\n",
    "                        & \\text{all items with support} \\\\\n",
    "\\end{array}\n",
    "\n",
    "The model also need to account for 90° rotations on the same plane which can be modeled as swapping its width and depth."
   ]
  },
  {
   "cell_type": "markdown",
   "id": "30817f3e",
   "metadata": {},
   "source": [
    "# MILP Model\n",
    "## Sets\n",
    "\\begin{array}{rl}\n",
    "    I = \\{1 \\dots n \\} & \\text{set of items} \\\\\n",
    "    J = \\{1 \\dots m \\} & \\text{set of homogenous bins} \\\\\n",
    "\\end{array}"
   ]
  },
  {
   "cell_type": "markdown",
   "id": "02a96fa1",
   "metadata": {},
   "source": [
    "## Parameters\n",
    "\\begin{array}{rll}\n",
    "    W \\times D \\times H & \\text{width $\\times$ depth $\\times$ height of a bin} & \\\\\n",
    "    V & \\text{bin volume} & \\\\\n",
    "    w_i \\times d_i \\times h_i & \\text{width $\\times$ depth $\\times$ height of an item} & \\forall i \\in I\\\\\n",
    "    \\alpha_s & \\text{support coefficient} & \\\\\n",
    "    t_s & \\text{support tollerance} & \\\\\n",
    "\\end{array}"
   ]
  },
  {
   "cell_type": "markdown",
   "id": "7927f796",
   "metadata": {},
   "source": [
    "## Variables\n",
    "\\begin{array}{rll}\n",
    "    p_{ij} & \\begin{cases}\n",
    "                1, \\text{if item $i$ is in bin $j$} \\\\ \n",
    "                0, \\text{otherwise}\n",
    "            \\end{cases} & \\forall i \\in I,j \\in J \\\\\n",
    "    b_j & \\begin{cases}\n",
    "                1, \\text{if bin $j$ is used} \\\\ \n",
    "                0, \\text{otherwise}\n",
    "            \\end{cases} & \\forall j \\in J \\\\\n",
    "    (x_i,y_i,z_i) & \\text{bottom front left corner of an item} & \\forall i \\in I \\\\\n",
    "    (x'_i,y'_i) & \\text{back right corner of an item} & \\forall i \\in I \\\\\n",
    "    r_i & \\begin{cases}\n",
    "                1, \\text{if item $i$ is rotated 90° over its z-axis} \\\\ \n",
    "                0, \\text{otherwise}\n",
    "            \\end{cases} & \\forall j \\in J \\\\\n",
    "    x^p_{ik} & \\begin{cases}\n",
    "                1, \\text{if item $i$ precedes item $k$ over x} \\\\ \n",
    "                0, \\text{otherwise}\n",
    "            \\end{cases} & \\forall i,k \\in I \\\\\n",
    "    y^p_{ik} & \\begin{cases}\n",
    "                1, \\text{if item $i$ precedes item $k$ over y} \\\\ \n",
    "                0, \\text{otherwise}\n",
    "            \\end{cases} & \\forall i,k \\in I \\\\\n",
    "    z^p_{ik} & \\begin{cases}\n",
    "                1, \\text{if item $i$ precedes item $k$ over z} \\\\ \n",
    "                0, \\text{otherwise}\n",
    "            \\end{cases} & \\forall i,k \\in I \\\\\n",
    "    z^c_{ik} & \\begin{cases}\n",
    "                1, \\text{if item $i$ is close to item $k$ over z} \\\\ \n",
    "                0, \\text{otherwise}\n",
    "            \\end{cases} & \\forall i,k \\in I \\\\\n",
    "    s_{ik} & \\begin{cases}\n",
    "                1, \\text{if item $i$ offers support for item $k$} \\\\ \n",
    "                0, \\text{otherwise}\n",
    "            \\end{cases} & \\forall i,k \\in I \\\\\n",
    "\\end{array}\n",
    "\n",
    "Where $i,k \\in I, j \\in J$ and $x_i,y_i,z_i,x'_i,y'_i \\in \\mathbb{Z}^+$.\n",
    "\n",
    "The definition of the point $x'_i,y'_i$ of an item is mostly used to facilitate the concept of rotations."
   ]
  },
  {
   "cell_type": "markdown",
   "id": "b24a9566",
   "metadata": {},
   "source": [
    "## Objective Function\n",
    "\\begin{array}{rll}\n",
    "    \\text{min} & \\sum_j^m{b_j V} - \\sum_i^n{ w_i d_i h_i } & \\text{(1)} \\\\\n",
    "\\end{array}\n",
    "\n",
    "(1) minimizes the unused volume in opened bins"
   ]
  },
  {
   "cell_type": "markdown",
   "id": "117da485",
   "metadata": {},
   "source": [
    "## Constraints\n",
    "\\begin{array}{lll}\n",
    "    \\sum_j^m{p_{ij}} = 1, & \\forall i \\in I & (2) \\\\\n",
    "    p_{ij} \\le b_j, & \\forall i \\in I,j \\in J & (3) \\\\\n",
    "    x'_i - x_i = (1 - r_i)w_i + r_i d_i & \\forall i \\in I & (4) \\\\\n",
    "    y'_i - y_i = (1 - r_i)d_i + r_i w_i & \\forall i \\in I & (5) \\\\\n",
    "    x'_i \\le W & \\forall i \\in I & (6) \\\\\n",
    "    y'_i \\le D & \\forall i \\in I & (7) \\\\\n",
    "    z_i \\le H - h_i & \\forall i \\in I & (8) \\\\\n",
    "\\end{array}\n",
    "\n",
    "(2) Ensures that an item is assigned to one and only one bin.\n",
    "\n",
    "(3) in conjunction with (1) ensures that the least ammount of bins is used and a bin is used only if at least one item is in it.\n",
    "\n",
    "(4,5) define the concept of rotating an item 90° over its z-axis.\n",
    "\n",
    "(6,7,8) ensure that all the items are within the bin\n",
    "\n",
    "\\begin{array}{lll}\n",
    "    x_i < x'_k + (1 - x^p_{ik})W & \\forall i,k \\in I & (9) \\\\\n",
    "    x'_k \\le x_i + x^p_{ik}W & \\forall i,k \\in I & (10) \\\\\n",
    "    y_i < y'_k + (1 - y^p_{ik})D & \\forall i,k \\in I & (11) \\\\\n",
    "    y'_k \\le y_i + y^p_{ik}D & \\forall i,k \\in I & (12) \\\\\n",
    "    z_i < z_k + h_k + (1 - z^p_{ik})H & \\forall i,k \\in I & (13) \\\\\n",
    "    z_k + h_k \\le z_i + z^p_{ik}W & \\forall i,k \\in I & (14) \\\\\n",
    "    x^p_{ik} + x^p_{ki} + y^p_{ik} + y^p_{ki} + z^p_{ik} + z^p_{ki} \\le 7 - (p_{ij} + p_{kj}) & \\forall (i,k)  \\in I, j \\in J &  (15)\n",
    "\\end{array}\n",
    "\n",
    "(9-14) fully define the precedence variables on each axis, and ensure that boxes with the extremes in the same coordinate aren't overlaps\n",
    "\n",
    "(15) ensures that overlap is only present at maximum on 2 axis for items in the same bin. An overlap occures if i precedes k and k precedes i over an axis.\n",
    "\n",
    "\\begin{array}{lll}\n",
    "    s_{ik} \\le \\frac{p_{ij} + p_{kj}}{2} & \\forall (i,k) \\in I, j \\in J & (16) \\\\\n",
    "    s_{ki} \\ge p_{ij} + p_{kj} + (1 - z^p_{ik}) + z^c_{ki} - 3 & \\forall (i,k) \\in I: i \\ne k & (17) \\\\\n",
    "    z_i - (z_k + h_k) \\le t_s + (1-z^c_{ki})H + (1-z^p_{ki})H & \\forall (i,k) \\in I: i \\ne k & (18) \\\\\n",
    "    z_k + h_k - z_i \\le t_s + (1-z^c_{ki})H + (1-z^p_{ki})H & \\forall (i,k) \\in I: i \\ne k & (18) \\\\\n",
    "\\end{array}\n",
    "\n",
    "(16) ensures that i can give support to k if and only if $p_ij = p_kj = 1$\n",
    "\n",
    "\\begin{array}{lll}\n",
    "    x^{\\text{max}}_{ik} \\le x'_i & \\forall i,k \\in I & (100) \\\\\n",
    "    x^{\\text{min}}_{ik} \\ge x_i & \\forall i,k \\in I & (100) \\\\\n",
    "    y^{\\text{max}}_{ik} \\le y'_i & \\forall i,k \\in I & (100) \\\\\n",
    "    y^{\\text{min}}_{ik} \\ge y_i & \\forall i,k \\in I & (100) \\\\\n",
    "    e^x_{ik} \\ge x^{\\text{max}}_{ik} - x^{\\text{min}}_{ik} & \\forall i,k \\in I & (100) \\\\\n",
    "    e^y_{ik} \\ge y^{\\text{max}}_{ik} - y^{\\text{min}}_{ik} & \\forall i,k \\in I & (100) \\\\\n",
    "    x^{\\text{max}}_{ik}, x^{\\text{min}}_{ik}, y^{\\text{max}}_{ik}, y^{\\text{min}}_{ik}, e^x_{ik}, e^y_{ik} \\ge 0 & \\forall i,k \\in I & \\\\\n",
    "    \\alpha_s w_i d_i \\le \\sum^n_k s_{ki} e^x_{ik} e^y_{ik} & \\forall i \\in I & (999)\n",
    "\\end{array}\n",
    "\n",
    "(999) guarantees support for each item $i$, the constraint is not linear"
   ]
  },
  {
   "cell_type": "markdown",
   "id": "91fa64b6",
   "metadata": {},
   "source": [
    "### Notes\n",
    "- Add an image explaining the coordinate system and parameters\n",
    "\n",
    "### Paper references\n",
    "- The Pallet Loading Problem: Three-dimensional Bin Packing with Practical Constraints (Fatma Gzara, Samir Elhedhli, Burak C. Yildiz) (concept of support)\n",
    "- A mixed integer programming formulation for the three-dimensional bin packing problem deriving from an air cargo application (C. Paquay, M. Schyns and S. Limbourg) (nice formulation of the 3DBPP)"
   ]
  }
 ],
 "metadata": {
  "kernelspec": {
   "display_name": "Python 3 (ipykernel)",
   "language": "python",
   "name": "python3"
  },
  "language_info": {
   "codemirror_mode": {
    "name": "ipython",
    "version": 3
   },
   "file_extension": ".py",
   "mimetype": "text/x-python",
   "name": "python",
   "nbconvert_exporter": "python",
   "pygments_lexer": "ipython3",
   "version": "3.9.6"
  }
 },
 "nbformat": 4,
 "nbformat_minor": 5
}
