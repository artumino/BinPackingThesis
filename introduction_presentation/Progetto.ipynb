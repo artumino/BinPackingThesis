{
 "cells": [
  {
   "cell_type": "markdown",
   "id": "a4399636",
   "metadata": {
    "slideshow": {
     "slide_type": "notes"
    }
   },
   "source": [
    "Struttura generale:\n",
    "- Introduzione del progetto, presentazione del problema\n",
    "- Obbiettivi\n",
    "- Timeline delle cose da fare\n",
    "- Inizio formalizzazione del problema?"
   ]
  },
  {
   "cell_type": "markdown",
   "id": "4a21763b",
   "metadata": {
    "cell_style": "split",
    "slideshow": {
     "slide_type": "slide"
    }
   },
   "source": [
    "### 3D Bin Packing\n",
    "## With supporting planes"
   ]
  },
  {
   "cell_type": "markdown",
   "id": "ca16566c",
   "metadata": {
    "cell_style": "split",
    "slideshow": {
     "slide_type": "-"
    }
   },
   "source": [
    "<figure style=\"display: table; margin: 0 auto\">\n",
    "  <center>\n",
    "    <img src=\"img/logo.png\" width=\"600vmin\" style=\"padding: 0 0 0 0\">\n",
    "  </center>\n",
    "  <div align=\"center\" style=\"color: #978282; padding: 50vmin 0 0 0\">\n",
    "    <em>\n",
    "      Jacopo Libè, Davide Croci\n",
    "    </em>\n",
    "  </div>\n",
    "</figure>"
   ]
  },
  {
   "cell_type": "markdown",
   "id": "31873325",
   "metadata": {
    "cell_style": "center",
    "slideshow": {
     "slide_type": "notes"
    }
   },
   "source": [
    "## Overview\n",
    "ERMES-X fornisce ai propri clienti un sistema di 3D bin e strip packing basato su un algoritmo che sfrutta un'euristica costruttiva che impone alcuni vincoli pratici di packing. L'obbiettivo del progetto è ampliare le funzionalità del sistema già implementato e fornire una base teorica a ciò che è stato già sviluppato. Si prevede, inoltre, lo sviluppo di una meta-euristica per la risoluzione di istanze più grandi."
   ]
  },
  {
   "cell_type": "markdown",
   "id": "bbdc0dc2",
   "metadata": {
    "slideshow": {
     "slide_type": "slide"
    }
   },
   "source": [
    "## As-is\n",
    "- Working constructive heuristic to solve 3DBPP/3DSPP\n",
    "- One bin at a time\n",
    "- All packages known at the start\n",
    "- Vertical support\n",
    "- Family groupings and restrictions\n",
    "- Verticalizations and Rotations\n",
    "- Slow on large instances\n",
    "- Packages are concentrated on one side"
   ]
  },
  {
   "cell_type": "markdown",
   "id": "ba27f541",
   "metadata": {
    "slideshow": {
     "slide_type": "slide"
    }
   },
   "source": [
    "## To-be\n",
    "- Better solver algorithm with improved heuristic\n",
    "- Theorical base for the current algorithm\n",
    "- Weight distribution and load bearing\n",
    "- Unload precedences\n",
    "- Meta-Heuristic to handle multi-bin packing over larger instances\n",
    "- Spacing and perimeter filling"
   ]
  },
  {
   "cell_type": "markdown",
   "id": "6056aeca",
   "metadata": {
    "slideshow": {
     "slide_type": "slide"
    }
   },
   "source": [
    "## Constraints (Vertical Support)"
   ]
  },
  {
   "cell_type": "markdown",
   "id": "9182e833",
   "metadata": {
    "slideshow": {
     "slide_type": "-"
    }
   },
   "source": [
    "\n",
    "\n",
    "<figure style=\"margin: 0 auto\">\n",
    "  <center>\n",
    "    <img src=\"img/support_example.jpg\" style=\"padding: 0 0 0 0\">\n",
    "  </center>\n",
    "  <div align=\"center\" style=\"color: #978282; padding: 50vmin 0 0 0\">\n",
    "    <em>\n",
    "      Orange packages are under the candidate package, N=3 S=40%\n",
    "    </em>\n",
    "  </div>\n",
    "</figure>"
   ]
  },
  {
   "cell_type": "markdown",
   "id": "5f5b9b4c",
   "metadata": {
    "slideshow": {
     "slide_type": "notes"
    }
   },
   "source": [
    "Partendo da un set di oggetti di dimensioni eterogenee occorre trovare un istanza di packing che garantisca il supporto verticale. Un piano di supporto in una possibile soluzione deve verificare almeno una delle seguenti condizioni\n",
    "- Essere sostenuto su almeno i suoi 4 vertici e per oltre il 20% della propria area\n",
    "- Essere sostenuto per oltre il 50% della propria area"
   ]
  },
  {
   "cell_type": "markdown",
   "id": "1985f247",
   "metadata": {
    "slideshow": {
     "slide_type": "slide"
    }
   },
   "source": [
    "## MaxRect with Obstacles"
   ]
  },
  {
   "attachments": {},
   "cell_type": "markdown",
   "id": "fca67461",
   "metadata": {},
   "source": [
    "\n",
    "<figure style=\"margin: 0 auto\">\n",
    "  <center>\n",
    "    <img src=\"img/support_plane_example.png\" style=\"padding: 0 0 0 0\">\n",
    "  </center>\n",
    "  <div align=\"center\" style=\"color: #978282; padding: 50vmin 0 0 0\">\n",
    "    <em>\n",
    "      Instance of a support plane with 2 support items and 1 upper item\n",
    "    </em>\n",
    "  </div>\n",
    "</figure>"
   ]
  },
  {
   "cell_type": "markdown",
   "id": "cafcfd04",
   "metadata": {
    "slideshow": {
     "slide_type": "slide"
    }
   },
   "source": [
    "## Timeline\n",
    "- Case study\n",
    "- Literature Review\n",
    "- Problem definition\n",
    "- Describe the proposed solution\n",
    "- Analysis"
   ]
  },
  {
   "cell_type": "markdown",
   "id": "353ee72e",
   "metadata": {
    "slideshow": {
     "slide_type": "slide"
    }
   },
   "source": [
    "## Literature References\n",
    "- [The Pallet Loading Problem: Three-dimensional bin packing with practical constraints](https://doi.org/10.1016/j.ejor.2020.04.053)\n",
    "(Gzara, Elhedhli, Yildiz) [2020]\n",
    "- [Three-Dimensional Bin Packing and Mixed-Case Palletization](https://doi.org/10.1287/ijoo.2019.0013) \n",
    "(Gzara, Elhedhli, Yildiz) [2019]\n",
    "- Extreme Point-Based Heuristics for Three-Dimensional Bin Packing\n",
    "(Crainic, Perboli, Tadei) [2007]\n",
    "- [A biased random key genetic algorithm for 2D and 3D bin packing problems](http://dx.doi.org/10.1016/j.ijpe.2013.04.019)\n",
    "(Gonçalves, J.F., Resende, M.G.C) [2013]"
   ]
  },
  {
   "cell_type": "markdown",
   "id": "cfbb848b",
   "metadata": {
    "slideshow": {
     "slide_type": "notes"
    }
   },
   "source": [
    "1. Load Bearing with graph + BFS\n",
    "2. Layer generation, super item generation, spacing with support\n",
    "3. Extreme points\n",
    "4. BRKGA, genetic algorithm for rotation and position of packages"
   ]
  },
  {
   "cell_type": "markdown",
   "id": "4d7e0d58",
   "metadata": {
    "slideshow": {
     "slide_type": "notes"
    }
   },
   "source": [
    "## Problem Definition (3DBPP)\n",
    "\n",
    "Dato un set di pacchi da smistare $ P: \\{1...n\\}$ aventi volume $ V_i = w_i \\cdot h_i \\cdot l_i $ ed un set $ |B|=n $ di bin di dimensione $ W \\times H \\times L $"
   ]
  }
 ],
 "metadata": {
  "celltoolbar": "Slideshow",
  "kernelspec": {
   "display_name": "Python_3.8",
   "language": "python",
   "name": "python_3.8"
  },
  "language_info": {
   "codemirror_mode": {
    "name": "ipython",
    "version": 3
   },
   "file_extension": ".py",
   "mimetype": "text/x-python",
   "name": "python",
   "nbconvert_exporter": "python",
   "pygments_lexer": "ipython3",
   "version": "3.8.3"
  }
 },
 "nbformat": 4,
 "nbformat_minor": 5
}
